{
 "cells": [
  {
   "cell_type": "code",
   "execution_count": 53,
   "metadata": {},
   "outputs": [],
   "source": [
    "import matplotlib.pyplot as plt\n",
    "import networkx as nx\n",
    "import nltk\n",
    "import numpy as np\n",
    "import pandas as pd\n",
    "import re\n",
    "from collections import Counter, defaultdict\n",
    "from mlxtend.frequent_patterns import apriori, association_rules\n",
    "from mlxtend.preprocessing import TransactionEncoder\n",
    "from nltk.util import ngrams\n",
    "from sklearn.metrics import accuracy_score, confusion_matrix\n",
    "from sklearn.model_selection import train_test_split\n",
    "from wordcloud import WordCloud\n",
    "import math\n",
    "from sklearn.naive_bayes import GaussianNB\n",
    "from sklearn.tree import DecisionTreeClassifier\n",
    "from sklearn.pipeline import make_pipeline\n",
    "from sklearn.preprocessing import KBinsDiscretizer\n",
    "from sklearn.metrics import accuracy_score\n",
    "import numpy as np\n",
    "from sklearn.naive_bayes import GaussianNB\n",
    "from sklearn.tree import DecisionTreeClassifier\n",
    "from sklearn.base import BaseEstimator, TransformerMixin\n",
    "from sklearn.pipeline import Pipeline\n",
    "from sklearn.metrics import accuracy_score\n",
    "import numpy as np\n",
    "from sklearn.naive_bayes import GaussianNB\n",
    "from sklearn.tree import DecisionTreeClassifier\n",
    "from sklearn.base import BaseEstimator, TransformerMixin\n",
    "from sklearn.pipeline import Pipeline\n",
    "from sklearn.metrics import accuracy_score\n",
    "from sklearn.feature_extraction.text import TfidfVectorizer\n",
    "from sklearn.model_selection import train_test_split\n",
    "import pandas as pd\n",
    "from sklearn.naive_bayes import GaussianNB\n",
    "from sklearn.tree import DecisionTreeClassifier\n",
    "from sklearn.base import BaseEstimator, TransformerMixin\n",
    "from sklearn.pipeline import Pipeline\n",
    "from sklearn.metrics import accuracy_score\n",
    "from sklearn.feature_extraction.text import TfidfVectorizer\n",
    "from sklearn.model_selection import train_test_split\n",
    "import pandas as pd\n",
    "\n",
    "np.set_printoptions(threshold=np.inf)"
   ]
  },
  {
   "cell_type": "code",
   "execution_count": 47,
   "metadata": {},
   "outputs": [],
   "source": [
    "# Cargamos los datos\n",
    "df_clean = pd.read_csv('../data/train_clean.csv')"
   ]
  },
  {
   "cell_type": "code",
   "execution_count": 61,
   "metadata": {},
   "outputs": [],
   "source": [
    "# 2. Dividir los datos en conjunto de entrenamiento y conjunto de prueba\n",
    "X_train, X_test, y_train, y_test = train_test_split(df_clean['text'], df_clean['label'], test_size=0.9, random_state=777)"
   ]
  },
  {
   "cell_type": "code",
   "execution_count": 40,
   "metadata": {},
   "outputs": [
    {
     "data": {
      "text/plain": [
       "Index([], dtype='object')"
      ]
     },
     "execution_count": 40,
     "metadata": {},
     "output_type": "execute_result"
    }
   ],
   "source": [
    "X_train.columns"
   ]
  },
  {
   "cell_type": "code",
   "execution_count": 73,
   "metadata": {},
   "outputs": [
    {
     "ename": "MemoryError",
     "evalue": "Unable to allocate 2.25 GiB for an array with shape (20384, 14832) and data type float64",
     "output_type": "error",
     "traceback": [
      "\u001b[1;31m---------------------------------------------------------------------------\u001b[0m",
      "\u001b[1;31mMemoryError\u001b[0m                               Traceback (most recent call last)",
      "Cell \u001b[1;32mIn[73], line 43\u001b[0m\n\u001b[0;32m     40\u001b[0m X_test_transformed \u001b[39m=\u001b[39m vectorizer\u001b[39m.\u001b[39mtransform(X_test)\n\u001b[0;32m     42\u001b[0m \u001b[39m# 10. Convertir la matriz dispersa a una matriz densa\u001b[39;00m\n\u001b[1;32m---> 43\u001b[0m X_test_transformed \u001b[39m=\u001b[39m X_test_transformed\u001b[39m.\u001b[39;49mtoarray()\n\u001b[0;32m     45\u001b[0m \u001b[39m# 11. Realizar predicciones en los datos de prueba\u001b[39;00m\n\u001b[0;32m     46\u001b[0m y_pred \u001b[39m=\u001b[39m tan_classifier\u001b[39m.\u001b[39mpredict(X_test_transformed)\n",
      "File \u001b[1;32m~\\AppData\\Local\\Packages\\PythonSoftwareFoundation.Python.3.10_qbz5n2kfra8p0\\LocalCache\\local-packages\\Python310\\site-packages\\scipy\\sparse\\_compressed.py:1051\u001b[0m, in \u001b[0;36m_cs_matrix.toarray\u001b[1;34m(self, order, out)\u001b[0m\n\u001b[0;32m   1049\u001b[0m \u001b[39mif\u001b[39;00m out \u001b[39mis\u001b[39;00m \u001b[39mNone\u001b[39;00m \u001b[39mand\u001b[39;00m order \u001b[39mis\u001b[39;00m \u001b[39mNone\u001b[39;00m:\n\u001b[0;32m   1050\u001b[0m     order \u001b[39m=\u001b[39m \u001b[39mself\u001b[39m\u001b[39m.\u001b[39m_swap(\u001b[39m'\u001b[39m\u001b[39mcf\u001b[39m\u001b[39m'\u001b[39m)[\u001b[39m0\u001b[39m]\n\u001b[1;32m-> 1051\u001b[0m out \u001b[39m=\u001b[39m \u001b[39mself\u001b[39;49m\u001b[39m.\u001b[39;49m_process_toarray_args(order, out)\n\u001b[0;32m   1052\u001b[0m \u001b[39mif\u001b[39;00m \u001b[39mnot\u001b[39;00m (out\u001b[39m.\u001b[39mflags\u001b[39m.\u001b[39mc_contiguous \u001b[39mor\u001b[39;00m out\u001b[39m.\u001b[39mflags\u001b[39m.\u001b[39mf_contiguous):\n\u001b[0;32m   1053\u001b[0m     \u001b[39mraise\u001b[39;00m \u001b[39mValueError\u001b[39;00m(\u001b[39m'\u001b[39m\u001b[39mOutput array must be C or F contiguous\u001b[39m\u001b[39m'\u001b[39m)\n",
      "File \u001b[1;32m~\\AppData\\Local\\Packages\\PythonSoftwareFoundation.Python.3.10_qbz5n2kfra8p0\\LocalCache\\local-packages\\Python310\\site-packages\\scipy\\sparse\\_base.py:1298\u001b[0m, in \u001b[0;36mspmatrix._process_toarray_args\u001b[1;34m(self, order, out)\u001b[0m\n\u001b[0;32m   1296\u001b[0m     \u001b[39mreturn\u001b[39;00m out\n\u001b[0;32m   1297\u001b[0m \u001b[39melse\u001b[39;00m:\n\u001b[1;32m-> 1298\u001b[0m     \u001b[39mreturn\u001b[39;00m np\u001b[39m.\u001b[39;49mzeros(\u001b[39mself\u001b[39;49m\u001b[39m.\u001b[39;49mshape, dtype\u001b[39m=\u001b[39;49m\u001b[39mself\u001b[39;49m\u001b[39m.\u001b[39;49mdtype, order\u001b[39m=\u001b[39;49morder)\n",
      "\u001b[1;31mMemoryError\u001b[0m: Unable to allocate 2.25 GiB for an array with shape (20384, 14832) and data type float64"
     ]
    }
   ],
   "source": [
    "# 1. Cargar tu dataframe df_clean con las columnas 'text' y 'label'\n",
    "\n",
    "# 2. Dividir los datos en conjunto de entrenamiento y conjunto de prueba\n",
    "X_train, X_test, y_train, y_test = train_test_split(df_clean['text'], df_clean['label'], test_size=0.98, random_state=42)\n",
    "\n",
    "# 3. Definir una clase personalizada para combinar los clasificadores Naive Bayes y árbol de decisión\n",
    "class TANClassifier(BaseEstimator, TransformerMixin):\n",
    "    def __init__(self, nb_clf, dt_clf):\n",
    "        self.nb_clf = nb_clf\n",
    "        self.dt_clf = dt_clf\n",
    "    \n",
    "    def fit(self, X, y):\n",
    "        self.nb_clf.fit(X, y)\n",
    "        X_transformed = self.nb_clf.predict_proba(X)\n",
    "        self.dt_clf.fit(X_transformed, y)\n",
    "        return self\n",
    "    \n",
    "    def predict(self, X):\n",
    "        X_transformed = self.nb_clf.predict_proba(X)\n",
    "        return self.dt_clf.predict(X_transformed)\n",
    "\n",
    "# 4. Crear un clasificador TAN utilizando un clasificador Naive Bayes y un árbol de decisión\n",
    "naive_bayes = GaussianNB()\n",
    "decision_tree = DecisionTreeClassifier(criterion='entropy')\n",
    "tan_classifier = TANClassifier(naive_bayes, decision_tree)\n",
    "\n",
    "# 5. Crear una instancia de TfidfVectorizer para convertir las noticias en vectores TF-IDF\n",
    "vectorizer = TfidfVectorizer()\n",
    "\n",
    "# 6. Obtener la representación TF-IDF de los datos de entrenamiento\n",
    "X_train_transformed = vectorizer.fit_transform(X_train)\n",
    "\n",
    "# 7. Convertir la matriz dispersa a una matriz densa\n",
    "X_train_transformed = X_train_transformed.toarray()\n",
    "\n",
    "# 8. Entrenar el clasificador TAN\n",
    "tan_classifier.fit(X_train_transformed, y_train)\n",
    "\n",
    "# 9. Obtener la representación TF-IDF de los datos de prueba\n",
    "X_test_transformed = vectorizer.transform(X_test)\n",
    "\n",
    "# 10. Convertir la matriz dispersa a una matriz densa\n",
    "X_test_transformed = X_test_transformed.toarray()\n",
    "\n",
    "# 11. Realizar predicciones en los datos de prueba\n",
    "y_pred = tan_classifier.predict(X_test_transformed)\n",
    "\n",
    "# 12. Calcular la exactitud del clasificador\n",
    "accuracy = accuracy_score(y_test, y_pred)\n",
    "print(\"Exactitud del clasificador TAN:\", accuracy)"
   ]
  }
 ],
 "metadata": {
  "kernelspec": {
   "display_name": "Python 3",
   "language": "python",
   "name": "python3"
  },
  "language_info": {
   "codemirror_mode": {
    "name": "ipython",
    "version": 3
   },
   "file_extension": ".py",
   "mimetype": "text/x-python",
   "name": "python",
   "nbconvert_exporter": "python",
   "pygments_lexer": "ipython3",
   "version": "3.10.11"
  },
  "orig_nbformat": 4
 },
 "nbformat": 4,
 "nbformat_minor": 2
}
