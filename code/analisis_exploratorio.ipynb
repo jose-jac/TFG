{
 "cells": [
  {
   "attachments": {},
   "cell_type": "markdown",
   "metadata": {},
   "source": [
    "# Análisis Exploratorio de Datos"
   ]
  },
  {
   "attachments": {},
   "cell_type": "markdown",
   "metadata": {},
   "source": [
    "### Imports"
   ]
  },
  {
   "cell_type": "code",
   "execution_count": null,
   "metadata": {},
   "outputs": [],
   "source": [
    "import matplotlib.pyplot as plt\n",
    "import matplotlib.font_manager as font_manager\n",
    "font_path = font_manager.findfont(\"DejaVu Serif\")\n",
    "plt.rc('font', family='serif')\n",
    "plt.rc('font', serif='DejaVu Serif')\n",
    "\n",
    "import nltk\n",
    "from nltk.util import ngrams\n",
    "\n",
    "import numpy as np\n",
    "np.set_printoptions(threshold=np.inf)\n",
    "\n",
    "from scipy import stats\n",
    "import pandas as pd\n",
    "from collections import Counter\n",
    "from wordcloud import WordCloud"
   ]
  },
  {
   "attachments": {},
   "cell_type": "markdown",
   "metadata": {},
   "source": [
    "### Carga de Datos limpios"
   ]
  },
  {
   "cell_type": "code",
   "execution_count": null,
   "metadata": {},
   "outputs": [],
   "source": [
    "df_clean = pd.read_csv('../data/train_clean.csv')"
   ]
  },
  {
   "attachments": {},
   "cell_type": "markdown",
   "metadata": {},
   "source": [
    "### Cantidad de palabras"
   ]
  },
  {
   "cell_type": "code",
   "execution_count": null,
   "metadata": {},
   "outputs": [],
   "source": [
    "# Calculamos cuantas palabras tiene cada noticia\n",
    "df_clean['n_words'] = df_clean['text'].apply(lambda x: len(x.split()))"
   ]
  },
  {
   "cell_type": "code",
   "execution_count": null,
   "metadata": {},
   "outputs": [],
   "source": [
    "# Calculamos algunas medidas de la cantidad de palabras por noticia\n",
    "print('Reales \\t -> Media:\\t\\t', \tdf_clean[df_clean['label'] == 0]['n_words'].mean())\n",
    "print('\\t -> Varianza:\\t\\t', \t\tdf_clean[df_clean['label'] == 0]['n_words'].var())\n",
    "print('\\t -> Desviación Típica:\\t', df_clean[df_clean['label'] == 0]['n_words'].std())\n",
    "print('')\n",
    "print('Fake \\t -> Media:\\t\\t', \t\tdf_clean[df_clean['label'] == 1]['n_words'].mean())\n",
    "print('\\t -> Varianza:\\t\\t', \t\tdf_clean[df_clean['label'] == 1]['n_words'].var())\n",
    "print('\\t -> Desviación Típica:\\t', df_clean[df_clean['label'] == 1]['n_words'].std())\n",
    "print('')\n",
    "print('Total \\t -> Media:\\t\\t', \tdf_clean['n_words'].mean())\n",
    "print('\\t -> Varianza:\\t\\t', \t\tdf_clean['n_words'].var())\n",
    "print('\\t -> Desviación Típica:\\t', df_clean['n_words'].std())"
   ]
  },
  {
   "attachments": {},
   "cell_type": "markdown",
   "metadata": {},
   "source": [
    "#### Palabras / noticia"
   ]
  },
  {
   "cell_type": "code",
   "execution_count": null,
   "metadata": {},
   "outputs": [],
   "source": [
    "# Hacemos un histograma de la cantidad de palabras por noticia\n",
    "plt.figure(figsize=(8, 6))\n",
    "bin_edges = np.arange(0, 3200, 200)\n",
    "n, bins, patches = plt.hist(df_clean['n_words'], bins=bin_edges, color='#8294c4', rwidth=0.85)\n",
    "plt.title('Cantidad de palabras por noticia')\n",
    "plt.xlabel('Palabras')\n",
    "plt.ylabel('Noticias')\n",
    "plt.xlim(0, 3000)\n",
    "plt.ylim(0, 7500)\n",
    "plt.gca().set_axisbelow(True)\n",
    "plt.gca().yaxis.grid(True, which='major')\n",
    "plt.gca().set_xticks(np.arange(0, 3000, 200))\n",
    "# plt.xticks(rotation=30)\n",
    "plt.gca().set_yticks(np.arange(0, 7500, 500))\n",
    "\n",
    "# Calcular los porcentajes\n",
    "porcentajes = [(100 * value / sum(n)) for value in n]\n",
    "\n",
    "# Agregar etiquetas a las barras\n",
    "for patch, porcentaje in zip(patches, porcentajes):\n",
    "\theight = patch.get_height()\n",
    "\twidth = patch.get_width()\n",
    "\tif patch.get_x() + width / 2 + 10 < plt.xlim()[1]:\n",
    "\t\tplt.text(patch.get_x() + patch.get_width() / 2, height + 60, f'{porcentaje:.1f}%', ha='center', fontsize=7)\n",
    "  \n",
    "plt.savefig('../images/cantidad_palabras.png', bbox_inches='tight', dpi=300)\n",
    "plt.show()"
   ]
  },
  {
   "attachments": {},
   "cell_type": "markdown",
   "metadata": {},
   "source": [
    "#### Palabras / Label"
   ]
  },
  {
   "cell_type": "code",
   "execution_count": null,
   "metadata": {},
   "outputs": [],
   "source": [
    "# Hacemos un histograma de la cantidad de palabras por noticia en cada label\n",
    "plt.figure(figsize=(8, 6))\n",
    "bin_edges = np.arange(0, 3200, 50)\n",
    "plt.hist(df_clean[df_clean['label'] == 0]['n_words'], bins=bin_edges, alpha=0.8, color='#6c78d4', label='Real', rwidth=0.85)\n",
    "plt.hist(df_clean[df_clean['label'] == 1]['n_words'], bins=bin_edges, alpha=0.6, color='#faed57', label='Fake', rwidth=0.85)\n",
    "plt.title('Cantidad de palabras en cada categoría')\n",
    "plt.xlabel('Palabras')\n",
    "plt.ylabel('Noticias')\n",
    "plt.xlim(0, 2200)\n",
    "plt.ylim(0, 2000)\n",
    "plt.gca().set_axisbelow(True)\n",
    "plt.gca().yaxis.grid(True, which='major')\n",
    "plt.gca().set_xticks(np.arange(0, 2200, 200))\n",
    "plt.gca().set_yticks(np.arange(0, 2100, 200))\n",
    "plt.gca().yaxis.set_minor_locator(plt.MultipleLocator(100))\n",
    "plt.legend()\n",
    "plt.savefig('../images/cantidad_palabras_label.png', bbox_inches='tight', dpi=300)\n",
    "plt.show()"
   ]
  },
  {
   "attachments": {},
   "cell_type": "markdown",
   "metadata": {},
   "source": [
    "#### Palabras distintas / noticia"
   ]
  },
  {
   "cell_type": "code",
   "execution_count": null,
   "metadata": {},
   "outputs": [],
   "source": [
    "# Calculamos la cantidad de palabras distintas por cada noticia y las guarda en una nueva columna\n",
    "df_clean['n_unique_words'] = df_clean['text'].apply(lambda x: len(set(x.split())))"
   ]
  },
  {
   "cell_type": "code",
   "execution_count": null,
   "metadata": {},
   "outputs": [],
   "source": [
    "# Calculamos algunas medidas de la cantidad de palabras distintas\n",
    "print('Reales \\t -> Media:\\t\\t',\t\tdf_clean[df_clean['label'] == 0]['n_unique_words'].mean())\n",
    "print('\\t -> Varianza:\\t\\t',\t\t\tdf_clean[df_clean['label'] == 0]['n_unique_words'].var())\n",
    "print('\\t -> Desviación Típica:\\t',\tdf_clean[df_clean['label'] == 0]['n_unique_words'].std())\n",
    "print('')\n",
    "print('Fake \\t -> Media:\\t\\t',\t\t\tdf_clean[df_clean['label'] == 1]['n_unique_words'].mean())\n",
    "print('\\t -> Varianza:\\t\\t',\t\t\tdf_clean[df_clean['label'] == 1]['n_unique_words'].var())\n",
    "print('\\t -> Desviación Típica:\\t',\tdf_clean[df_clean['label'] == 1]['n_unique_words'].std())\n",
    "print('')\n",
    "print('Total \\t -> Media:\\t\\t',\t\t\tdf_clean['n_unique_words'].mean())\n",
    "print('\\t -> Varianza:\\t\\t',\t\t\tdf_clean['n_unique_words'].var())\n",
    "print('\\t -> Desviación Típica:\\t',\t\tdf_clean['n_unique_words'].std())"
   ]
  },
  {
   "cell_type": "code",
   "execution_count": null,
   "metadata": {},
   "outputs": [],
   "source": [
    "# Hacemos un histograma de la cantidad de palabras distintas por noticia\n",
    "plt.figure(figsize=(8, 6))\n",
    "bin_edges = np.arange(0, 3200, 100)\n",
    "n, bins, patches = plt.hist(df_clean['n_unique_words'], bins=bin_edges, rwidth=0.85, color='#8294c4')\n",
    "plt.title('Cantidad de palabras distintas por noticia')\n",
    "plt.xlabel('Palabras distintas')\n",
    "plt.ylabel('Noticias')\n",
    "plt.xlim(0, 2000)\n",
    "plt.ylim(0, 6000)\n",
    "plt.gca().set_axisbelow(True)\n",
    "plt.gca().yaxis.grid(True, which='major')\n",
    "plt.gca().set_xticks(np.arange(0, 2000, 200))\n",
    "plt.gca().set_yticks(np.arange(0, 6000, 500))\n",
    "\n",
    "# Calcular los porcentajes\n",
    "porcentajes = [(100 * value / sum(n)) for value in n]\n",
    "\n",
    "# Agregar etiquetas a las barras\n",
    "for patch, porcentaje in zip(patches, porcentajes):\n",
    "\theight = patch.get_height()\n",
    "\twidth = patch.get_width()\n",
    "\tif patch.get_x() + width / 2 + 10 < plt.xlim()[1]:\n",
    "\t\tplt.text(patch.get_x() + patch.get_width() / 2, height + 60, f'{porcentaje:.1f}%', ha='center', fontsize=7)\n",
    "  \n",
    "plt.savefig('../images/cantidad_palabras_distintas.png', bbox_inches='tight', dpi=300)\n",
    "plt.show()"
   ]
  },
  {
   "attachments": {},
   "cell_type": "markdown",
   "metadata": {},
   "source": [
    "#### Palabras distintas / Label"
   ]
  },
  {
   "cell_type": "code",
   "execution_count": null,
   "metadata": {},
   "outputs": [],
   "source": [
    "# Hacemos un histograma de la cantidad de palabras por noticia en cada label\n",
    "plt.figure(figsize=(8, 6))\n",
    "bin_edges = np.arange(0, 3200, 50)\n",
    "plt.hist(df_clean[df_clean['label'] == 0]['n_unique_words'], bins=bin_edges, alpha=0.8, color='#6c78d4', label='Real', rwidth=0.85)\n",
    "plt.hist(df_clean[df_clean['label'] == 1]['n_unique_words'], bins=bin_edges, alpha=0.6, color='#faed57', label='Fake', rwidth=0.85)\n",
    "plt.title('Cantidad de palabras distintas en cada categoría')\n",
    "plt.xlabel('Palabras distintas')\n",
    "plt.ylabel('Noticias')\n",
    "plt.xlim(0, 2200)\n",
    "plt.ylim(0, 2000)\n",
    "plt.gca().set_axisbelow(True)\n",
    "plt.gca().yaxis.grid(True, which='major')\n",
    "plt.gca().set_xticks(np.arange(0, 2200, 200))\n",
    "plt.gca().set_yticks(np.arange(0, 2100, 200))\n",
    "plt.gca().yaxis.set_minor_locator(plt.MultipleLocator(100))\n",
    "plt.legend()\n",
    "plt.savefig('../images/cantidad_palabras_distintas_label.png', bbox_inches='tight', dpi=300)\n",
    "plt.show()"
   ]
  },
  {
   "attachments": {},
   "cell_type": "markdown",
   "metadata": {},
   "source": [
    "#### Palabras distintas / Palabras"
   ]
  },
  {
   "cell_type": "code",
   "execution_count": null,
   "metadata": {},
   "outputs": [],
   "source": [
    "# Hacemos un gráfico de dispersión de la cantidad de palabras y cantidad de palabras distintas por noticia y categoría\n",
    "plt.figure(figsize=(8, 6))\n",
    "plt.scatter(df_clean[df_clean['label'] == 0]['n_words'], df_clean[df_clean['label'] == 0]['n_unique_words'], alpha=0.1, color='#6c78d4', label='Real')\n",
    "plt.scatter(df_clean[df_clean['label'] == 1]['n_words'], df_clean[df_clean['label'] == 1]['n_unique_words'], alpha=0.1, color='#faed57', label='Fake')\n",
    "plt.title('Cantidad de palabras y palabras distintas por noticia')\n",
    "plt.xlabel('Palabras')\n",
    "plt.ylabel('Palabras distintas')\n",
    "plt.xlim(0, 3000)\n",
    "plt.ylim(0, 2000)\n",
    "plt.gca().set_axisbelow(True)\n",
    "plt.gca().yaxis.grid(True, which='major')\n",
    "plt.gca().set_xticks(np.arange(0, 3000, 200))\n",
    "plt.gca().set_yticks(np.arange(0, 2000, 200))\n",
    "plt.gca().yaxis.set_minor_locator(plt.MultipleLocator(100))\n",
    "plt.legend()\n",
    "\n",
    "plt.savefig('../images/dispersion_palabras_distintas.png', bbox_inches='tight', dpi=300)\n",
    "plt.show()"
   ]
  },
  {
   "attachments": {},
   "cell_type": "markdown",
   "metadata": {},
   "source": [
    "### Palabras más frecuentes en cada set"
   ]
  },
  {
   "cell_type": "code",
   "execution_count": null,
   "metadata": {},
   "outputs": [],
   "source": [
    "# Utilizamos Counter para calcular la frecuencia de las palabras por label y en global\n",
    "words = Counter()\n",
    "words_real = Counter()\n",
    "words_fake = Counter()\n",
    "for idx, row in df_clean.iterrows():\n",
    "\twords.update(row['text'].split())\n",
    "\tif row['label'] == 0:\n",
    "\t\twords_real.update(row['text'].split())\n",
    "\telse:\n",
    "\t\twords_fake.update(row['text'].split())\n",
    "\t\n",
    "# Pasamos a dataframes con palabras y cantidad\n",
    "words_df = pd.DataFrame.from_dict(words, orient='index', columns=['count'])\n",
    "words_real_df = pd.DataFrame.from_dict(words_real, orient='index', columns=['count'])\n",
    "words_fake_df = pd.DataFrame.from_dict(words_fake, orient='index', columns=['count'])\n",
    "\n",
    "# Utilizamos Counter para calcular la aparición de palabras por label y en global\n",
    "words_appearance = Counter()\n",
    "words_appearance_real = Counter()\n",
    "words_appearance_fake = Counter()\n",
    "for idx, row in df_clean.iterrows():\n",
    "\twords_appearance.update(set(row['text'].split()))\n",
    "\tif row['label'] == 0:\n",
    "\t\twords_appearance_real.update(set(row['text'].split()))\n",
    "\telse:\n",
    "\t\twords_appearance_fake.update(set(row['text'].split()))\n",
    "  \n",
    "# Añadimos estos datos a los dataframes\n",
    "words_df['appearance'] = words_df.index.map(words_appearance)\n",
    "words_real_df['appearance'] = words_real_df.index.map(words_appearance_real)\n",
    "words_fake_df['appearance'] = words_fake_df.index.map(words_appearance_fake)"
   ]
  },
  {
   "cell_type": "code",
   "execution_count": null,
   "metadata": {},
   "outputs": [],
   "source": [
    "# Los mostramos ordenados por cantidad\n",
    "print('Palabras más frecuentes en noticias reales:')\n",
    "print(words_real_df.sort_values(by='count', ascending=False).head(10))\n",
    "print('Palabras más frecuentes en noticias falsas:')\n",
    "print(words_fake_df.sort_values(by='count', ascending=False).head(10))\n",
    "print('Palabras más frecuentes:')\n",
    "print(words_df.sort_values(by='count', ascending=False).head(10))"
   ]
  },
  {
   "cell_type": "code",
   "execution_count": null,
   "metadata": {},
   "outputs": [],
   "source": [
    "# Calculamos el porcentaje de noticias verdaderas que contienen cada palabra\n",
    "words_real_df['percentage'] = words_real_df['appearance'] / len(df_clean[df_clean['label']==0]) * 100"
   ]
  },
  {
   "cell_type": "code",
   "execution_count": null,
   "metadata": {},
   "outputs": [],
   "source": [
    "# Hacemos un gráfico de barras de las palabras más frecuentes en noticias reales\n",
    "cantidad_palabras = 25\n",
    "plt.figure(figsize=(8, 4))\n",
    "plt.bar(words_real_df.sort_values(by='percentage', ascending=False).head(cantidad_palabras).index, words_real_df.sort_values(by='percentage', ascending=False).head(cantidad_palabras)['percentage'], color='#6c78d4')\n",
    "plt.title('Palabras más aparecidas en noticias reales')\n",
    "plt.ylim(0, 100)\n",
    "plt.gca().set_axisbelow(True)\n",
    "plt.gca().yaxis.grid(True, which='major')\n",
    "plt.gca().set_yticks(np.arange(0, 110, 10))\n",
    "plt.xticks(rotation=90)\n",
    "\n",
    "# Hacemos que en el eje y se muestre el símbolo de porcentaje\n",
    "vals = plt.gca().get_yticks()\n",
    "plt.gca().set_yticklabels(['{:,.0%}'.format(x/100) for x in vals])\n",
    "\n",
    "plt.savefig('../images/palabras_mas_frecuentes_reales_20.png', bbox_inches='tight', dpi=300)\n",
    "plt.show()"
   ]
  },
  {
   "cell_type": "code",
   "execution_count": null,
   "metadata": {},
   "outputs": [],
   "source": [
    "# Calculamos el porcentaje de noticias falsas que contienen cada palabra\n",
    "words_fake_df['percentage'] = words_fake_df['appearance'] / len(df_clean[df_clean['label']==1]) * 100"
   ]
  },
  {
   "cell_type": "code",
   "execution_count": null,
   "metadata": {},
   "outputs": [],
   "source": [
    "# Hacemos un gráfico de barras de las palabras más frecuentes en noticias falsas\n",
    "cantidad_palabras = 25\n",
    "plt.figure(figsize=(8, 4))\n",
    "plt.bar(words_fake_df.sort_values(by='percentage', ascending=False).head(cantidad_palabras).index, words_fake_df.sort_values(by='percentage', ascending=False).head(cantidad_palabras)['percentage'], color='#faed57')\n",
    "plt.title('Palabras más aparecidas en noticias falsas')\n",
    "plt.ylim(0, 100)\n",
    "plt.gca().set_axisbelow(True)\n",
    "plt.gca().yaxis.grid(True, which='major')\n",
    "plt.gca().set_yticks(np.arange(0, 110, 10))\n",
    "plt.xticks(rotation=90)\n",
    "\n",
    "# Hacemos que en el eje y se muestre el símbolo de porcentaje\n",
    "vals = plt.gca().get_yticks()\n",
    "plt.gca().set_yticklabels(['{:,.0%}'.format(x/100) for x in vals])\n",
    "\n",
    "plt.savefig('../images/palabras_mas_frecuentes_falsas_20.png', bbox_inches='tight', dpi=300)\n",
    "plt.show()"
   ]
  },
  {
   "cell_type": "code",
   "execution_count": null,
   "metadata": {},
   "outputs": [],
   "source": [
    "# Creamos word_intersection para guardar las palabras que aparecen en ambos dataframes\n",
    "words_intersection = words_real_df.merge(words_fake_df, how='inner', left_index=True, right_index=True, suffixes=('_real', '_fake'))\n",
    "\n",
    "# Calculamos los ratios de aparición de las palabras en ambos dataframes\n",
    "words_intersection['ratio_real'] = words_intersection['appearance_real'] / words_intersection['appearance_fake']\n",
    "words_intersection['ratio_fake'] = words_intersection['appearance_fake'] / words_intersection['appearance_real']"
   ]
  },
  {
   "cell_type": "code",
   "execution_count": null,
   "metadata": {},
   "outputs": [],
   "source": [
    "# Hacemos un gráfico de barras de las palabras con más ratio de aparición en noticias reales\n",
    "cantidad_palabras = 25\n",
    "plt.figure(figsize=(8, 4))\n",
    "plt.bar(words_intersection.sort_values(by='ratio_real', ascending=False).head(cantidad_palabras).index, words_intersection.sort_values(by='ratio_real', ascending=False).head(cantidad_palabras)['ratio_real'], color='#6c78d4')\n",
    "plt.title('Palabras con mayor ratio de aparición en noticias reales')\n",
    "plt.ylabel('Ratio')\n",
    "plt.ylim(0, 100)\n",
    "plt.gca().set_axisbelow(True)\n",
    "plt.gca().yaxis.grid(True, which='major')\n",
    "plt.gca().set_yticks(np.arange(0, 150, 10))\n",
    "plt.xticks(rotation=90)\n",
    "\n",
    "plt.savefig('../images/palabras_mas_ratio_reales_25.png', bbox_inches='tight', dpi=300)\n",
    "plt.show()"
   ]
  },
  {
   "cell_type": "code",
   "execution_count": null,
   "metadata": {},
   "outputs": [],
   "source": [
    "# Hacemos un gráfico de barras de las palabras con más ratio de aparición en noticias falsas\n",
    "cantidad_palabras = 25\n",
    "plt.figure(figsize=(8, 4))\n",
    "plt.bar(words_intersection.sort_values(by='ratio_fake', ascending=False).head(cantidad_palabras).index, words_intersection.sort_values(by='ratio_fake', ascending=False).head(cantidad_palabras)['ratio_fake'], color='#faed57')\n",
    "plt.title('Palabras con mayor ratio de aparición en noticias falsas')\n",
    "plt.ylabel('Ratio')\n",
    "plt.ylim(0, 140)\n",
    "plt.gca().set_axisbelow(True)\n",
    "plt.gca().yaxis.grid(True, which='major')\n",
    "plt.gca().set_yticks(np.arange(0, 150, 10))\n",
    "plt.xticks(rotation=90)\n",
    "\n",
    "plt.savefig('../images/palabras_mas_ratio_falsas_25.png', bbox_inches='tight', dpi=300)\n",
    "plt.show()"
   ]
  },
  {
   "cell_type": "code",
   "execution_count": null,
   "metadata": {},
   "outputs": [],
   "source": [
    "# Hacemos un wordcloud de las 20 palabras más aparecidas en noticias reales que están en words_real_df\n",
    "wordcloud = WordCloud(width=1920, height=1080, background_color='white', max_words=200).generate_from_frequencies(words_real_df.to_dict()['appearance'])\n",
    "plt.figure(figsize=(8,6))\n",
    "plt.imshow(wordcloud, interpolation='bilinear')\n",
    "plt.axis('off')\t\n",
    "plt.title('Palabras más frecuentes en noticias reales')\n",
    "plt.savefig('../images/palabras_mas_frecuentes_reales_wordcloud.png', bbox_inches='tight', dpi=300)\n",
    "plt.show()\n",
    "\n",
    "# Hacemos un wordcloud de las 20 palabras más aparecidas en noticias falsas que están en words_fake_df\n",
    "wordcloud = WordCloud(width=1920, height=1080, background_color='white', max_words=200).generate_from_frequencies(words_fake_df.to_dict()['appearance'])\n",
    "plt.figure(figsize=(8,6))\n",
    "plt.imshow(wordcloud, interpolation='bilinear')\n",
    "plt.axis('off')\n",
    "plt.title('Palabras más frecuentes en noticias falsas')\n",
    "plt.savefig('../images/palabras_mas_frecuentes_falsas_wordcloud.png', bbox_inches='tight', dpi=300)\n",
    "plt.show()"
   ]
  },
  {
   "attachments": {},
   "cell_type": "markdown",
   "metadata": {},
   "source": [
    "### Bigramas"
   ]
  },
  {
   "cell_type": "code",
   "execution_count": null,
   "metadata": {},
   "outputs": [],
   "source": [
    "# Utilizamos Counter para calcular la frecuencia de los bigramas por label y en global\n",
    "bigrams = Counter()\n",
    "bigrams_real = Counter()\n",
    "bigrams_fake = Counter()\n",
    "for idx, row in df_clean.iterrows():\n",
    "\tbigrams.update(ngrams(row['text'].split(), 2))\n",
    "\tif row['label'] == 0:\n",
    "\t\tbigrams_real.update(ngrams(row['text'].split(), 2))\n",
    "\telse:\n",
    "\t\tbigrams_fake.update(ngrams(row['text'].split(), 2))\n",
    "\t\n",
    "# Pasamos a dataframes con ngramas y cantidad\n",
    "bigrams_df = pd.DataFrame.from_dict(bigrams, orient='index', columns=['count'])\n",
    "bigrams_real_df = pd.DataFrame.from_dict(bigrams_real, orient='index', columns=['count'])\n",
    "bigrams_fake_df = pd.DataFrame.from_dict(bigrams_fake, orient='index', columns=['count'])\n",
    "\n",
    "# Utilizamos Counter para calcular la aparición de bigramas por label y en global\n",
    "bigrams_appearance = Counter()\n",
    "bigrams_appearance_real = Counter()\n",
    "bigrams_appearance_fake = Counter()\n",
    "for idx, row in df_clean.iterrows():\n",
    "\tbigrams_appearance.update(set(ngrams(row['text'].split(), 2)))\n",
    "\tif row['label'] == 0:\n",
    "\t\tbigrams_appearance_real.update(set(ngrams(row['text'].split(), 2)))\n",
    "\telse:\n",
    "\t\tbigrams_appearance_fake.update(set(ngrams(row['text'].split(), 2)))\n",
    "  \n",
    "# Añadimos estos datos a los dataframes\n",
    "bigrams_df['appearance'] = bigrams_df.index.map(bigrams_appearance)\n",
    "bigrams_real_df['appearance'] = bigrams_real_df.index.map(bigrams_appearance_real)\n",
    "bigrams_fake_df['appearance'] = bigrams_fake_df.index.map(bigrams_appearance_fake)"
   ]
  },
  {
   "cell_type": "code",
   "execution_count": null,
   "metadata": {},
   "outputs": [],
   "source": [
    "# Añadimos una columna con los bigramas divididos por un espacio\n",
    "bigrams_df['bigram'] = bigrams_df.index.map(lambda x: ' '.join(x))\n",
    "bigrams_real_df['bigram'] = bigrams_real_df.index.map(lambda x: ' '.join(x))\n",
    "bigrams_fake_df['bigram'] = bigrams_fake_df.index.map(lambda x: ' '.join(x))"
   ]
  },
  {
   "cell_type": "code",
   "execution_count": null,
   "metadata": {},
   "outputs": [],
   "source": [
    "# Calculamos el porcentaje de noticias verdaderas que contienen cada bigrama\n",
    "bigrams_real_df['percentage'] = bigrams_real_df['appearance'] / len(df_clean[df_clean['label']==0]) * 100"
   ]
  },
  {
   "cell_type": "code",
   "execution_count": null,
   "metadata": {},
   "outputs": [],
   "source": [
    "# Hacemos un gráfico de barras de los bigramas más frecuentes en noticias reales\n",
    "cantidad_bigramas = 25\t\n",
    "plt.figure(figsize=(8, 4))\n",
    "plt.bar(bigrams_real_df.sort_values(by='percentage', ascending=False).head(cantidad_bigramas)['bigram'], bigrams_real_df.sort_values(by='percentage', ascending=False).head(cantidad_bigramas)['percentage'], color='#6c78d4')\n",
    "plt.title('Bigramas más aparecidos en noticias reales')\n",
    "plt.ylim(0, 100)\n",
    "plt.gca().set_axisbelow(True)\n",
    "plt.gca().yaxis.grid(True, which='major')\n",
    "plt.gca().set_yticks(np.arange(0, 110, 10))\n",
    "plt.xticks(rotation=90)\n",
    "\n",
    "# Hacemos que en el eje y se muestre el símbolo de porcentaje\n",
    "vals = plt.gca().get_yticks()\n",
    "plt.gca().set_yticklabels(['{:,.0%}'.format(x/100) for x in vals])\n",
    "\n",
    "plt.savefig('../images/bigramas_mas_frecuentes_reales_25.png', bbox_inches='tight', dpi=300)\n",
    "plt.show()"
   ]
  },
  {
   "cell_type": "code",
   "execution_count": null,
   "metadata": {},
   "outputs": [],
   "source": [
    "# Calculamos el porcentaje de noticias falsas que contienen cada bigrama\n",
    "bigrams_fake_df['percentage'] = bigrams_fake_df['appearance'] / len(df_clean[df_clean['label']==1]) * 100\n",
    "\n",
    "# Hacemos un gráfico de barras de los bigramas más frecuentes en noticias falsas\n",
    "cantidad_bigramas = 25\t\n",
    "plt.figure(figsize=(8, 4))\n",
    "plt.bar(bigrams_fake_df.sort_values(by='percentage', ascending=False).head(cantidad_bigramas)['bigram'], bigrams_fake_df.sort_values(by='percentage', ascending=False).head(cantidad_bigramas)['percentage'], color='#faed57')\n",
    "plt.title('Bigramas más aparecidos en noticias falsas')\n",
    "plt.ylim(0, 100)\n",
    "plt.gca().set_axisbelow(True)\n",
    "plt.gca().yaxis.grid(True, which='major')\n",
    "plt.gca().set_yticks(np.arange(0, 110, 10))\n",
    "plt.xticks(rotation=90)\n",
    "\n",
    "# Hacemos que en el eje y se muestre el símbolo de porcentaje\n",
    "vals = plt.gca().get_yticks()\n",
    "plt.gca().set_yticklabels(['{:,.0%}'.format(x/100) for x in vals])\n",
    "\n",
    "plt.savefig('../images/bigramas_mas_frecuentes_falsas_25.png', bbox_inches='tight', dpi=300)\n",
    "plt.show()"
   ]
  },
  {
   "cell_type": "code",
   "execution_count": null,
   "metadata": {},
   "outputs": [],
   "source": [
    "# Creamos bigram_intersection para guardar los bigramas que aparecen en ambos dataframes\n",
    "bigrams_intersection = bigrams_real_df.merge(bigrams_fake_df, how='inner', left_index=True, right_index=True, suffixes=('_real', '_fake'))\n",
    "\n",
    "# Le añadimos el campo 'bigram'\n",
    "bigrams_intersection['bigram'] = bigrams_intersection.index.map(lambda x: ' '.join(x))\n",
    "\n",
    "# Calculamos los ratios de aparición de los bigramas en ambos dataframes\n",
    "bigrams_intersection['ratio_real'] = bigrams_intersection['appearance_real'] / bigrams_intersection['appearance_fake']\n",
    "bigrams_intersection['ratio_fake'] = bigrams_intersection['appearance_fake'] / bigrams_intersection['appearance_real']"
   ]
  },
  {
   "cell_type": "code",
   "execution_count": null,
   "metadata": {},
   "outputs": [],
   "source": [
    "# Hacemos un gráfico de barras de los bigramas con más ratio de aparición en noticias reales\n",
    "cantidad_bigramas = 25\n",
    "plt.figure(figsize=(8, 4))\n",
    "plt.bar(bigrams_intersection.sort_values(by='ratio_real', ascending=False).head(cantidad_bigramas)['bigram'], bigrams_intersection.sort_values(by='ratio_real', ascending=False).head(cantidad_bigramas)['ratio_real'], color='#6c78d4')\n",
    "plt.title('Bigramas con mayor ratio de aparición en noticias reales')\n",
    "plt.ylabel('Ratio')\n",
    "plt.ylim(0, 500)\n",
    "plt.gca().set_axisbelow(True)\n",
    "plt.gca().yaxis.grid(True, which='major')\n",
    "plt.gca().set_yticks(np.arange(0, 550, 50))\n",
    "plt.xticks(rotation=90)\n",
    "\n",
    "plt.savefig('../images/bigramas_mas_ratio_reales_25.png', bbox_inches='tight', dpi=300)\n",
    "plt.show()"
   ]
  },
  {
   "cell_type": "code",
   "execution_count": null,
   "metadata": {},
   "outputs": [],
   "source": [
    "# Hacemos un gráfico de barras de los bigramas con más ratio de aparición en noticias falsas\n",
    "cantidad_bigramas = 25\n",
    "plt.figure(figsize=(8, 4))\n",
    "plt.bar(bigrams_intersection.sort_values(by='ratio_fake', ascending=False).head(cantidad_bigramas)['bigram'], bigrams_intersection.sort_values(by='ratio_fake', ascending=False).head(cantidad_bigramas)['ratio_fake'], color='#faed57')\n",
    "plt.title('Bigramas con mayor ratio de aparición en noticias falsas')\n",
    "plt.ylabel('Ratio')\n",
    "plt.ylim(0, 500)\n",
    "plt.gca().set_axisbelow(True)\n",
    "plt.gca().yaxis.grid(True, which='major')\n",
    "plt.gca().set_yticks(np.arange(0, 550, 50))\n",
    "plt.xticks(rotation=90)\n",
    "\n",
    "plt.savefig('../images/bigramas_mas_ratio_falsos_25.png', bbox_inches='tight', dpi=300)\n",
    "plt.show()"
   ]
  },
  {
   "cell_type": "code",
   "execution_count": null,
   "metadata": {},
   "outputs": [],
   "source": [
    "# Creamos nubes de bigramas más frecuentes en noticias reales y falsas, teniendo en cuenta que los bigramas aún no son strings\n",
    "# Pasamos los bigramas a strings\n",
    "bigrams_real_df.index = bigrams_real_df.index.map(lambda x: ' '.join(x))\n",
    "bigrams_fake_df.index = bigrams_fake_df.index.map(lambda x: ' '.join(x))\n",
    "\n",
    "# Hacemos un wordcloud de los 20 bigramas más aparecidos en noticias reales que están en bigrams_real_df\n",
    "wordcloud = WordCloud(width=1920, height=1080, background_color='white', max_words=200).generate_from_frequencies(bigrams_real_df.to_dict()['appearance'], )\n",
    "plt.figure(figsize=(8,6))\n",
    "plt.imshow(wordcloud, interpolation='bilinear')\n",
    "plt.axis('off')\n",
    "plt.title('Bigramas más frecuentes en noticias reales')\n",
    "plt.savefig('../images/bigramas_mas_frecuentes_reales_wordcloud.png', bbox_inches='tight', dpi=300)\n",
    "plt.show()\n",
    "\n",
    "# Hacemos un wordcloud de los 20 bigramas más aparecidos en noticias falsas que están en bigrams_fake_df\n",
    "wordcloud = WordCloud(width=1920, height=1080, background_color='white', max_words=200).generate_from_frequencies(bigrams_fake_df.to_dict()['appearance'])\n",
    "plt.figure(figsize=(8,6))\n",
    "plt.imshow(wordcloud, interpolation='bilinear')\n",
    "plt.axis('off')\n",
    "plt.title('Bigramas más frecuentes en noticias falsas')\n",
    "plt.savefig('../images/bigramas_mas_frecuentes_falsas_wordcloud.png', bbox_inches='tight', dpi=300)\n",
    "plt.show()"
   ]
  },
  {
   "attachments": {},
   "cell_type": "markdown",
   "metadata": {},
   "source": [
    "#### Trigramas"
   ]
  },
  {
   "cell_type": "code",
   "execution_count": null,
   "metadata": {},
   "outputs": [],
   "source": [
    "# Utilizamos Counter para calcular la frecuencia de los trigramas por label y en global\n",
    "trigrams = Counter()\n",
    "trigrams_real = Counter()\n",
    "trigrams_fake = Counter()\n",
    "for idx, row in df_clean.iterrows():\n",
    "\tconjunto = set(ngrams(row['text'].split(), 3))\n",
    "\ttrigrams.update(conjunto)\n",
    "\tif row['label'] == 0:\n",
    "\t\ttrigrams_real.update(conjunto)\n",
    "\telse:\n",
    "\t\ttrigrams_fake.update(conjunto)\n",
    "\n",
    "# Pasamos a dataframes con ngramas y cantidad\n",
    "trigrams_df = pd.DataFrame.from_dict(trigrams, orient='index', columns=['appearance'])\n",
    "trigrams_real_df = pd.DataFrame.from_dict(trigrams_real, orient='index', columns=['appearance'])\n",
    "trigrams_fake_df = pd.DataFrame.from_dict(trigrams_fake, orient='index', columns=['appearance'])"
   ]
  },
  {
   "cell_type": "code",
   "execution_count": null,
   "metadata": {},
   "outputs": [],
   "source": [
    "# Borramos algunos objetos para ganar espacio en RAM\n",
    "del(trigrams)\n",
    "del(trigrams_real)\n",
    "del(trigrams_fake)"
   ]
  },
  {
   "cell_type": "code",
   "execution_count": null,
   "metadata": {},
   "outputs": [],
   "source": [
    "# Añadimos una columna con los trigramas divididos por un espacio\n",
    "trigrams_df['trigram'] = trigrams_df.index.map(lambda x: ' '.join(x))\n",
    "trigrams_real_df['trigram'] = trigrams_real_df.index.map(lambda x: ' '.join(x))\n",
    "trigrams_fake_df['trigram'] = trigrams_fake_df.index.map(lambda x: ' '.join(x))"
   ]
  },
  {
   "cell_type": "code",
   "execution_count": null,
   "metadata": {},
   "outputs": [],
   "source": [
    "# Calculamos el porcentaje de noticias verdaderas que contienen cada trigramas\n",
    "trigrams_real_df['percentage'] = trigrams_real_df['appearance'] / len(df_clean[df_clean['label']==0]) * 100"
   ]
  },
  {
   "cell_type": "code",
   "execution_count": null,
   "metadata": {},
   "outputs": [],
   "source": [
    "# Hacemos un gráfico de barras de los trigramas más frecuentes en noticias reales\n",
    "cantidad_trigramas = 25\n",
    "plt.figure(figsize=(8, 4))\n",
    "plt.bar(trigrams_real_df.sort_values(by='percentage', ascending=False).head(cantidad_trigramas)['trigram'], trigrams_real_df.sort_values(by='percentage', ascending=False).head(cantidad_trigramas)['percentage'], color='#6c78d4')\n",
    "plt.title('Trigramas más aparecidos en noticias reales')\n",
    "plt.ylim(0, 100)\n",
    "plt.gca().set_axisbelow(True)\n",
    "plt.gca().yaxis.grid(True, which='major')\n",
    "plt.gca().set_yticks(np.arange(0, 110, 10))\n",
    "plt.xticks(rotation=90)\n",
    "\n",
    "# Hacemos que en el eje y se muestre el símbolo de porcentaje\n",
    "vals = plt.gca().get_yticks()\n",
    "plt.gca().set_yticklabels(['{:,.0%}'.format(x/100) for x in vals])\n",
    "\n",
    "plt.savefig('../images/trigramas_mas_frecuentes_reales_25.png', bbox_inches='tight', dpi=300)\n",
    "plt.show()"
   ]
  },
  {
   "cell_type": "code",
   "execution_count": null,
   "metadata": {},
   "outputs": [],
   "source": [
    "# Calculamos el porcentaje de noticias falsas que contienen cada trigramas\n",
    "trigrams_fake_df['percentage'] = trigrams_fake_df['appearance'] / len(df_clean[df_clean['label']==1]) * 100"
   ]
  },
  {
   "cell_type": "code",
   "execution_count": null,
   "metadata": {},
   "outputs": [],
   "source": [
    "# Hacemos un gráfico de barras de los trigramas más frecuentes en noticias falsas\n",
    "cantidad_trigramas = 25\n",
    "plt.figure(figsize=(8, 4))\n",
    "plt.bar(trigrams_fake_df.sort_values(by='percentage', ascending=False).head(cantidad_trigramas)['trigram'], trigrams_fake_df.sort_values(by='percentage', ascending=False).head(cantidad_trigramas)['percentage'], color='#faed57')\n",
    "plt.title('Trigramas más aparecidos en noticias falsas')\n",
    "plt.ylim(0, 100)\n",
    "plt.gca().set_axisbelow(True)\n",
    "plt.gca().yaxis.grid(True, which='major')\n",
    "plt.gca().set_yticks(np.arange(0, 110, 10))\n",
    "plt.xticks(rotation=90)\n",
    "\n",
    "# Hacemos que en el eje y se muestre el símbolo de porcentaje\n",
    "vals = plt.gca().get_yticks()\n",
    "plt.gca().set_yticklabels(['{:,.0%}'.format(x/100) for x in vals])\n",
    "\n",
    "plt.savefig('../images/trigramas_mas_frecuentes_falsas_25.png', bbox_inches='tight', dpi=300)\n",
    "plt.show()"
   ]
  },
  {
   "cell_type": "code",
   "execution_count": null,
   "metadata": {},
   "outputs": [],
   "source": [
    "# Creamos trigram_intersection para guardar los trigramas que aparecen en ambos dataframes\n",
    "trigrams_intersection = trigrams_real_df.merge(trigrams_fake_df, how='inner', left_index=True, right_index=True, suffixes=('_real', '_fake'))\n",
    "\n",
    "# Le añadimos el campo 'trigram'\n",
    "trigrams_intersection['trigram'] = trigrams_intersection.index.map(lambda x: ' '.join(x))\n",
    "\n",
    "# Calculamos los ratios de aparición de los trigramas en ambos dataframes\n",
    "trigrams_intersection['ratio_real'] = trigrams_intersection['appearance_real'] / trigrams_intersection['appearance_fake']\n",
    "trigrams_intersection['ratio_fake'] = trigrams_intersection['appearance_fake'] / trigrams_intersection['appearance_real']"
   ]
  },
  {
   "cell_type": "code",
   "execution_count": null,
   "metadata": {},
   "outputs": [],
   "source": [
    "# Hacer un gráfico de barras de los trigramas con más ratio de aparición en noticias reales\n",
    "cantidad_trigramas = 25\n",
    "plt.figure(figsize=(8, 4))\n",
    "plt.bar(trigrams_intersection.sort_values(by='ratio_real', ascending=False).head(cantidad_trigramas)['trigram'], trigrams_intersection.sort_values(by='ratio_real', ascending=False).head(cantidad_trigramas)['ratio_real'], color='#6c78d4')\n",
    "plt.title('Trigramas con mayor ratio de aparición en noticias reales')\n",
    "plt.ylabel('Ratio')\n",
    "plt.ylim(0, 250)\n",
    "plt.gca().set_axisbelow(True)\n",
    "plt.gca().yaxis.grid(True, which='major')\n",
    "plt.gca().set_yticks(np.arange(0, 300, 50))\n",
    "plt.xticks(rotation=90)\n",
    "\n",
    "plt.savefig('../images/trigramas_mas_ratio_reales_25.png', bbox_inches='tight', dpi=300)\n",
    "plt.show()"
   ]
  },
  {
   "cell_type": "code",
   "execution_count": null,
   "metadata": {},
   "outputs": [],
   "source": [
    "# Hacer un gráfico de barras de los trigramas con más ratio de aparición en noticias falsas\n",
    "cantidad_trigramas = 25\n",
    "plt.figure(figsize=(8, 4))\n",
    "plt.bar(trigrams_intersection.sort_values(by='ratio_fake', ascending=False).head(cantidad_trigramas)['trigram'], trigrams_intersection.sort_values(by='ratio_fake', ascending=False).head(cantidad_trigramas)['ratio_fake'], color='#faed57')\n",
    "plt.title('Trigramas con mayor ratio de aparición en noticias falsas')\n",
    "plt.ylabel('Ratio')\n",
    "plt.ylim(0, 250)\n",
    "plt.gca().set_axisbelow(True)\n",
    "plt.gca().yaxis.grid(True, which='major')\n",
    "plt.gca().set_yticks(np.arange(0, 300, 50))\n",
    "plt.xticks(rotation=90)\n",
    "\n",
    "plt.savefig('../images/trigramas_mas_ratio_falsos_25.png', bbox_inches='tight', dpi=300)\n",
    "plt.show()"
   ]
  }
 ],
 "metadata": {
  "kernelspec": {
   "display_name": "Python 3",
   "language": "python",
   "name": "python3"
  },
  "language_info": {
   "codemirror_mode": {
    "name": "ipython",
    "version": 3
   },
   "file_extension": ".py",
   "mimetype": "text/x-python",
   "name": "python",
   "nbconvert_exporter": "python",
   "pygments_lexer": "ipython3",
   "version": "3.10.11"
  },
  "orig_nbformat": 4
 },
 "nbformat": 4,
 "nbformat_minor": 2
}
